{
 "cells": [
  {
   "cell_type": "code",
   "execution_count": 1,
   "id": "db44f7a2-f1ed-46fe-8377-adc86e813db0",
   "metadata": {},
   "outputs": [],
   "source": [
    "import pandas as pd\n",
    "import numpy as np\n",
    "from sklearn.base import BaseEstimator, TransformerMixin\n",
    "from sklearn.pipeline import Pipeline\n",
    "from sklearn.compose import ColumnTransformer\n",
    "from sklearn.preprocessing import OneHotEncoder, LabelEncoder, FunctionTransformer\n",
    "from sklearn.preprocessing import StandardScaler\n",
    "import matplotlib.pyplot as plt\n",
    "import seaborn as sns\n",
    "from sklearn.model_selection import train_test_split, GridSearchCV\n",
    "from sklearn.linear_model import LogisticRegression\n",
    "from sklearn.metrics import accuracy_score\n",
    "from sklearn.neighbors import KNeighborsClassifier\n",
    "from scipy.ndimage import shift\n"
   ]
  },
  {
   "cell_type": "code",
   "execution_count": 2,
   "id": "a4ad7736-9078-4d81-9921-faaaf6fff085",
   "metadata": {},
   "outputs": [],
   "source": [
    "train_df = pd.read_csv(r'D:\\Kaggle\\digit-recognizer\\train.csv')\n",
    "test_df = pd.read_csv(r'D:\\Kaggle\\digit-recognizer\\test.csv')\n",
    "train_df_copy = train_df.copy()\n",
    "test_df_copy = test_df.copy()"
   ]
  },
  {
   "cell_type": "code",
   "execution_count": 3,
   "id": "14aa98ed-ff56-456e-a618-ef3d6242a817",
   "metadata": {},
   "outputs": [
    {
     "data": {
      "text/plain": [
       "Index(['label', 'pixel0', 'pixel1', 'pixel2', 'pixel3', 'pixel4', 'pixel5',\n",
       "       'pixel6', 'pixel7', 'pixel8',\n",
       "       ...\n",
       "       'pixel774', 'pixel775', 'pixel776', 'pixel777', 'pixel778', 'pixel779',\n",
       "       'pixel780', 'pixel781', 'pixel782', 'pixel783'],\n",
       "      dtype='object', length=785)"
      ]
     },
     "execution_count": 3,
     "metadata": {},
     "output_type": "execute_result"
    }
   ],
   "source": [
    "train_df.columns"
   ]
  },
  {
   "cell_type": "code",
   "execution_count": 6,
   "id": "b68ffa23-113a-4662-8fb8-f5d0a6e2eec0",
   "metadata": {},
   "outputs": [],
   "source": [
    "def row_operation(row, direction):\n",
    "    label = row.iloc[0]\n",
    "    image = row.iloc[1:].values.reshape((28,28))\n",
    "    \n",
    "    if direction == 'left':\n",
    "        shifted_img = shift(image, shift=[0, -1], mode='constant', cval=0)\n",
    "    elif direction == 'right':\n",
    "        shifted_img = shift(image, shift=[0, 1], mode='constant', cval=0)\n",
    "    elif direction == 'top':\n",
    "        shifted_img = shift(image, shift=[-1, 0], mode='constant', cval=0)\n",
    "    elif direction == 'bottom':\n",
    "        shifted_img = shift(image, shift=[1, 0], mode='constant', cval=0)\n",
    "    \n",
    "    \n",
    "    return [label]+shifted_img.flatten().tolist()\n",
    "\n",
    "# Apply the function row-wise for different shifts\n",
    "df_left = train_df.apply(lambda row: row_operation(row, 'left'), axis=1,result_type='expand')\n",
    "df_right = train_df.apply(lambda row: row_operation(row, 'right'), axis=1,result_type='expand')\n",
    "df_top = train_df.apply(lambda row: row_operation(row, 'top'), axis=1,result_type='expand')\n",
    "df_bottom = train_df.apply(lambda row: row_operation(row, 'bottom'), axis=1,result_type='expand')\n",
    "\n",
    "\n",
    "\n"
   ]
  },
  {
   "cell_type": "code",
   "execution_count": 7,
   "id": "7191afda-4288-4924-ba12-f1a01c5d367e",
   "metadata": {},
   "outputs": [],
   "source": [
    "df_left.columns= df_right.columns= df_top.columns= df_bottom.columns = train_df.columns\n",
    "\n",
    "train_df = pd.concat([train_df,df_left,df_right,df_bottom,df_top],axis = 0).reset_index(drop=True)"
   ]
  },
  {
   "cell_type": "code",
   "execution_count": 8,
   "id": "1b570344-9d37-495e-83f7-9c52ebc32c5f",
   "metadata": {},
   "outputs": [],
   "source": [
    "X = train_df.drop(['label'],axis=1)\n",
    "y = train_df['label']"
   ]
  },
  {
   "cell_type": "code",
   "execution_count": 9,
   "id": "29673bde-fa3a-4c7f-a5a3-e5f5ea5931d8",
   "metadata": {},
   "outputs": [],
   "source": [
    "X_train, X_test, y_train, y_test = train_test_split(X, y, test_size=0.2, random_state=42)\n"
   ]
  },
  {
   "cell_type": "code",
   "execution_count": 10,
   "id": "68d22c8c-b302-4c55-b920-05ab0b99690b",
   "metadata": {},
   "outputs": [],
   "source": [
    "scaler = StandardScaler()\n",
    "X_train_scaled = scaler.fit_transform(X_train)\n",
    "X_test_scaled = scaler.transform(X_test)\n",
    "x_out = scaler.transform(test_df)"
   ]
  },
  {
   "cell_type": "code",
   "execution_count": null,
   "id": "bfe1673f-6631-447a-b4ac-6694d0ebe9bc",
   "metadata": {},
   "outputs": [],
   "source": [
    "log_reg = LogisticRegression(max_iter=100, solver='lbfgs', multi_class='multinomial')\n",
    "log_reg.fit(X_train, y_train)\n",
    "y_pred = log_reg.predict(X_test)\n",
    "accuracy = accuracy_score(y_test, y_pred)\n",
    "print(f\"Accuracy: {accuracy:.2f}\")\n",
    "out = log_reg.predict(test_df)\n",
    "submission = pd.DataFrame({\n",
    "    'ImageId': range(1, len(out) + 1),\n",
    "    'Label': out\n",
    "})\n",
    "\n",
    "submission.to_csv(r'D:\\Kaggle\\digit-recognizer\\reg_submission.csv', index=False)"
   ]
  },
  {
   "cell_type": "code",
   "execution_count": 10,
   "id": "e0b7a1e1-3a9b-49bf-b130-e13136f07df7",
   "metadata": {},
   "outputs": [
    {
     "name": "stdout",
     "output_type": "stream",
     "text": [
      "Accuracy: 0.84\n"
     ]
    }
   ],
   "source": [
    "from sklearn.tree import DecisionTreeClassifier\n",
    "\n",
    "tree_clf = DecisionTreeClassifier()\n",
    "\n",
    "tree_clf.fit(X_train, y_train)\n",
    "\n",
    "y_pred = tree_clf.predict(X_test)\n",
    "accuracy = accuracy_score(y_test, y_pred)\n",
    "print(f\"Accuracy: {accuracy:.2f}\")\n",
    "\n",
    "out = tree_clf.predict(test_df)\n",
    "\n",
    "submission = pd.DataFrame({\n",
    "    'ImageId': range(1, len(out) + 1),\n",
    "    'Label': out\n",
    "})\n",
    "\n",
    "submission.to_csv(r'D:\\Kaggle\\digit-recognizer\\tree_submission.csv', index=False)\n"
   ]
  },
  {
   "cell_type": "code",
   "execution_count": 13,
   "id": "58bb7429-6072-400d-a2b1-833eb7a7bdfd",
   "metadata": {},
   "outputs": [
    {
     "name": "stdout",
     "output_type": "stream",
     "text": [
      "Accuracy: 0.97529\n"
     ]
    }
   ],
   "source": [
    "from sklearn.ensemble import RandomForestClassifier\n",
    "\n",
    "\n",
    "# Train the model\n",
    "rf_clf = RandomForestClassifier(n_estimators=100)\n",
    "rf_clf.fit(X_train, y_train)\n",
    "\n",
    "# Make predictions on the test set\n",
    "y_pred = rf_clf.predict(X_test)\n",
    "accuracy = accuracy_score(y_test, y_pred)\n",
    "print(f\"Accuracy: {accuracy:.5f}\")\n",
    "\n",
    "# Predict on the competition test data\n",
    "out = rf_clf.predict(test_df)\n",
    "\n",
    "# Prepare submission\n",
    "submission = pd.DataFrame({\n",
    "    'ImageId': range(1, len(out) + 1),\n",
    "    'Label': out\n",
    "})\n",
    "\n",
    "submission.to_csv(r'D:\\Kaggle\\digit-recognizer\\random_submission.csv', index=False)\n"
   ]
  },
  {
   "cell_type": "code",
   "execution_count": 12,
   "id": "190c79f5-0b4f-4740-b933-2121b4eebb8c",
   "metadata": {},
   "outputs": [
    {
     "name": "stdout",
     "output_type": "stream",
     "text": [
      "Accuracy: 0.97521\n"
     ]
    }
   ],
   "source": [
    "print(f\"Accuracy: {accuracy:.5f}\")\n"
   ]
  },
  {
   "cell_type": "code",
   "execution_count": 18,
   "id": "e860f68d-159c-4ee2-8e22-b582987fe35b",
   "metadata": {},
   "outputs": [
    {
     "name": "stdout",
     "output_type": "stream",
     "text": [
      "[LibSVM]Accuracy: 0.97129\n"
     ]
    }
   ],
   "source": [
    "from sklearn.svm import SVC\n",
    "\n",
    "\n",
    "# Train the model\n",
    "svm_clf = SVC(kernel='rbf', C=1, max_iter=10000,verbose=True)\n",
    "svm_clf.fit(X_train_scaled, y_train)\n",
    "\n",
    "# Make predictions on the test set\n",
    "y_pred = svm_clf.predict(X_test_scaled)\n",
    "accuracy = accuracy_score(y_test, y_pred)\n",
    "print(f\"Accuracy: {accuracy:.5f}\")\n",
    "\n",
    "# Predict on the competition test data\n",
    "out = svm_clf.predict(x_out)\n",
    "\n",
    "# Prepare submission\n",
    "submission = pd.DataFrame({\n",
    "    'ImageId': range(1, len(out) + 1),\n",
    "    'Label': out\n",
    "})\n",
    "\n",
    "submission.to_csv(r'D:\\Kaggle\\digit-recognizer\\svc_submission.csv', index=False)\n"
   ]
  },
  {
   "cell_type": "code",
   "execution_count": null,
   "id": "18758787-f2bf-4bc0-8697-515d329ebeb6",
   "metadata": {},
   "outputs": [],
   "source": [
    "from sklearn.ensemble import GradientBoostingClassifier\n",
    "from sklearn.metrics import accuracy_score\n",
    "\n",
    "# Train the model\n",
    "gb_clf = GradientBoostingClassifier()\n",
    "gb_clf.fit(X_train, y_train)\n",
    "\n",
    "# Make predictions on the test set\n",
    "y_pred = gb_clf.predict(X_test)\n",
    "accuracy = accuracy_score(y_test, y_pred)\n",
    "print(f\"Accuracy: {accuracy:.2f}\")\n",
    "\n",
    "# Predict on the competition test data\n",
    "out = gb_clf.predict(test_df)\n",
    "\n",
    "# Prepare submission\n",
    "submission = pd.DataFrame({\n",
    "    'ImageId': range(1, len(out) + 1),\n",
    "    'Label': out\n",
    "})\n",
    "\n",
    "submission.to_csv(r'D:\\Kaggle\\digit-recognizer\\gb_submission.csv', index=False)\n"
   ]
  },
  {
   "cell_type": "code",
   "execution_count": 12,
   "id": "9e3c2aed-5190-40d7-8f67-54742f0983a5",
   "metadata": {},
   "outputs": [
    {
     "name": "stdout",
     "output_type": "stream",
     "text": [
      "Accuracy: 0.98236\n"
     ]
    }
   ],
   "source": [
    "from sklearn.neighbors import KNeighborsClassifier\n",
    "from sklearn.metrics import accuracy_score\n",
    "import pandas as pd\n",
    "\n",
    "# Train the model\n",
    "knn_clf = KNeighborsClassifier(n_neighbors=3, weights = 'distance')\n",
    "knn_clf.fit(X_train, y_train)\n",
    "\n",
    "# Make predictions on the test set\n",
    "y_pred = knn_clf.predict(X_test)\n",
    "accuracy = accuracy_score(y_test, y_pred)\n",
    "print(f\"Accuracy: {accuracy:.5f}\")\n",
    "\n",
    "# Predict on the competition test data\n",
    "out = knn_clf.predict(test_df)\n",
    "\n",
    "# Prepare submission\n",
    "submission = pd.DataFrame({\n",
    "    'ImageId': range(1, len(out) + 1),\n",
    "    'Label': out\n",
    "})\n",
    "\n",
    "submission.to_csv(r'D:\\Kaggle\\digit-recognizer\\kn_submission.csv', index=False)\n"
   ]
  },
  {
   "cell_type": "code",
   "execution_count": 7,
   "id": "ceb31cf9-100c-4dbd-b7f9-1fc962ecb087",
   "metadata": {
    "scrolled": true
   },
   "outputs": [
    {
     "name": "stdout",
     "output_type": "stream",
     "text": [
      "Fitting 5 folds for each of 10 candidates, totalling 50 fits\n",
      "[CV] END .....................n_neighbors=3, weights=uniform; total time=   3.6s\n",
      "[CV] END .....................n_neighbors=3, weights=uniform; total time=   3.7s\n",
      "[CV] END .....................n_neighbors=3, weights=uniform; total time=   3.3s\n",
      "[CV] END .....................n_neighbors=3, weights=uniform; total time=   3.9s\n",
      "[CV] END .....................n_neighbors=3, weights=uniform; total time=   3.5s\n",
      "[CV] END ....................n_neighbors=3, weights=distance; total time=   3.2s\n",
      "[CV] END ....................n_neighbors=3, weights=distance; total time=   3.4s\n",
      "[CV] END ....................n_neighbors=3, weights=distance; total time=   3.5s\n",
      "[CV] END ....................n_neighbors=3, weights=distance; total time=   3.1s\n",
      "[CV] END ....................n_neighbors=3, weights=distance; total time=   3.3s\n",
      "[CV] END .....................n_neighbors=5, weights=uniform; total time=   3.3s\n",
      "[CV] END .....................n_neighbors=5, weights=uniform; total time=   3.3s\n",
      "[CV] END .....................n_neighbors=5, weights=uniform; total time=   3.2s\n",
      "[CV] END .....................n_neighbors=5, weights=uniform; total time=   3.2s\n",
      "[CV] END .....................n_neighbors=5, weights=uniform; total time=   3.3s\n",
      "[CV] END ....................n_neighbors=5, weights=distance; total time=   3.2s\n",
      "[CV] END ....................n_neighbors=5, weights=distance; total time=   3.1s\n",
      "[CV] END ....................n_neighbors=5, weights=distance; total time=   3.1s\n",
      "[CV] END ....................n_neighbors=5, weights=distance; total time=   3.0s\n",
      "[CV] END ....................n_neighbors=5, weights=distance; total time=   3.0s\n",
      "[CV] END .....................n_neighbors=7, weights=uniform; total time=   3.2s\n",
      "[CV] END .....................n_neighbors=7, weights=uniform; total time=   3.3s\n",
      "[CV] END .....................n_neighbors=7, weights=uniform; total time=   3.2s\n",
      "[CV] END .....................n_neighbors=7, weights=uniform; total time=   3.2s\n",
      "[CV] END .....................n_neighbors=7, weights=uniform; total time=   3.2s\n",
      "[CV] END ....................n_neighbors=7, weights=distance; total time=   3.0s\n",
      "[CV] END ....................n_neighbors=7, weights=distance; total time=   2.8s\n",
      "[CV] END ....................n_neighbors=7, weights=distance; total time=   2.8s\n",
      "[CV] END ....................n_neighbors=7, weights=distance; total time=   2.9s\n",
      "[CV] END ....................n_neighbors=7, weights=distance; total time=   2.9s\n",
      "[CV] END .....................n_neighbors=9, weights=uniform; total time=   3.7s\n",
      "[CV] END .....................n_neighbors=9, weights=uniform; total time=   4.0s\n",
      "[CV] END .....................n_neighbors=9, weights=uniform; total time=   3.9s\n",
      "[CV] END .....................n_neighbors=9, weights=uniform; total time=   4.1s\n",
      "[CV] END .....................n_neighbors=9, weights=uniform; total time=   3.4s\n",
      "[CV] END ....................n_neighbors=9, weights=distance; total time=   3.1s\n",
      "[CV] END ....................n_neighbors=9, weights=distance; total time=   3.2s\n",
      "[CV] END ....................n_neighbors=9, weights=distance; total time=   3.1s\n",
      "[CV] END ....................n_neighbors=9, weights=distance; total time=   3.0s\n",
      "[CV] END ....................n_neighbors=9, weights=distance; total time=   3.1s\n",
      "[CV] END ....................n_neighbors=11, weights=uniform; total time=   3.4s\n",
      "[CV] END ....................n_neighbors=11, weights=uniform; total time=   3.3s\n",
      "[CV] END ....................n_neighbors=11, weights=uniform; total time=   3.3s\n",
      "[CV] END ....................n_neighbors=11, weights=uniform; total time=   3.6s\n",
      "[CV] END ....................n_neighbors=11, weights=uniform; total time=   3.5s\n",
      "[CV] END ...................n_neighbors=11, weights=distance; total time=   3.3s\n",
      "[CV] END ...................n_neighbors=11, weights=distance; total time=   3.4s\n",
      "[CV] END ...................n_neighbors=11, weights=distance; total time=   3.3s\n",
      "[CV] END ...................n_neighbors=11, weights=distance; total time=   3.2s\n",
      "[CV] END ...................n_neighbors=11, weights=distance; total time=   3.2s\n",
      "Best parameters found: {'n_neighbors': 3, 'weights': 'distance'}\n",
      "Test set accuracy: 0.97\n"
     ]
    }
   ],
   "source": [
    "knn = KNeighborsClassifier()\n",
    "\n",
    "param_grid = {\n",
    "    'n_neighbors': [3, 5, 7, 9, 11],\n",
    "    'weights': ['uniform', 'distance']\n",
    "}\n",
    "\n",
    "grid_search = GridSearchCV(knn, param_grid, cv=5, scoring='accuracy',verbose=2)\n",
    "grid_search.fit(X_train, y_train)\n",
    "\n",
    "print(\"Best parameters found:\", grid_search.best_params_)\n",
    "best_knn = grid_search.best_estimator_ # or random_search.best_estimator_\n",
    "y_pred = best_knn.predict(X_test)\n",
    "accuracy = accuracy_score(y_test, y_pred)\n",
    "print(f\"Test set accuracy: {accuracy:.2f}\")\n"
   ]
  },
  {
   "cell_type": "code",
   "execution_count": null,
   "id": "5ef4ab38-751d-4bb1-bc43-f9c1202944a0",
   "metadata": {},
   "outputs": [],
   "source": [
    "from sklearn.svm import SVC\n",
    "\n",
    "\n",
    "# Train the model\n",
    "svm_clf = SVC(kernel='poly', degree=9, C=1, max_iter=10000,verbose=True)\n",
    "svm_clf.fit(X_train_scaled, y_train)\n",
    "\n",
    "# Make predictions on the test set\n",
    "y_pred = svm_clf.predict(X_test_scaled)\n",
    "accuracy = accuracy_score(y_test, y_pred)\n",
    "print(f\"Accuracy: {accuracy:.5f}\")\n",
    "\n",
    "# Predict on the competition test data\n",
    "out = svm_clf.predict(x_out)\n",
    "\n",
    "# Prepare submission\n",
    "submission = pd.DataFrame({\n",
    "    'ImageId': range(1, len(out) + 1),\n",
    "    'Label': out\n",
    "})\n",
    "\n",
    "submission.to_csv(r'D:\\Kaggle\\digit-recognizer\\svc_submission.csv', index=False)\n"
   ]
  },
  {
   "cell_type": "code",
   "execution_count": null,
   "id": "0c33e78c-3f33-49dc-a934-969cfc1b4124",
   "metadata": {},
   "outputs": [],
   "source": [
    "SVC(kernel='poly', degree=9, C=1, random_state=42)"
   ]
  },
  {
   "cell_type": "code",
   "execution_count": null,
   "id": "8d6a5283-a262-4a71-972a-5f619a758903",
   "metadata": {},
   "outputs": [],
   "source": []
  }
 ],
 "metadata": {
  "kernelspec": {
   "display_name": "Python 3 (ipykernel)",
   "language": "python",
   "name": "python3"
  },
  "language_info": {
   "codemirror_mode": {
    "name": "ipython",
    "version": 3
   },
   "file_extension": ".py",
   "mimetype": "text/x-python",
   "name": "python",
   "nbconvert_exporter": "python",
   "pygments_lexer": "ipython3",
   "version": "3.12.4"
  }
 },
 "nbformat": 4,
 "nbformat_minor": 5
}
