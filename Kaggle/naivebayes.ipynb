{
 "cells": [
  {
   "cell_type": "code",
   "execution_count": 1,
   "id": "be014950-423d-482c-bc6d-0fe8cd18cc12",
   "metadata": {},
   "outputs": [],
   "source": [
    "neg_passage = \"just plain boring. entirely predictable and lacks energy. no surprises and very few laughs\"\n",
    "pos_passage = \"very powerful. the most fun film of the summ\""
   ]
  },
  {
   "cell_type": "code",
   "execution_count": 2,
   "id": "03be6b19-32f8-4c00-9192-32ca5dbdca46",
   "metadata": {},
   "outputs": [],
   "source": [
    "neg_sentences = []\n",
    "pos_sentences = []\n",
    "for sentence in neg_passage.split(\".\"):\n",
    "    neg_sentences.append(sentence.lstrip())\n",
    "for sentence in pos_passage.split(\".\"):\n",
    "    pos_sentences.append(sentence.lstrip())"
   ]
  },
  {
   "cell_type": "code",
   "execution_count": 3,
   "id": "800c9e11-b1e6-4a05-8056-6035caf4dc70",
   "metadata": {},
   "outputs": [
    {
     "data": {
      "text/plain": [
       "(['just plain boring',\n",
       "  'entirely predictable and lacks energy',\n",
       "  'no surprises and very few laughs'],\n",
       " ['very powerful', 'the most fun film of the summ'])"
      ]
     },
     "execution_count": 3,
     "metadata": {},
     "output_type": "execute_result"
    }
   ],
   "source": [
    "neg_sentences, pos_sentences"
   ]
  },
  {
   "cell_type": "code",
   "execution_count": 4,
   "id": "ca23e4fa-2596-4667-945b-bbc17b96c8bd",
   "metadata": {},
   "outputs": [],
   "source": [
    "from collections import defaultdict\n",
    "\n",
    "bag_of_words = set()\n",
    "for sentence in neg_sentences:\n",
    "    for word in sentence.split(\" \"):\n",
    "        bag_of_words.add(word)\n",
    "for sentence in pos_sentences:\n",
    "    for word in sentence.split(\" \"):\n",
    "        bag_of_words.add(word)"
   ]
  },
  {
   "cell_type": "code",
   "execution_count": 5,
   "id": "866e66f3-05fc-488e-9843-07a58c859e5a",
   "metadata": {},
   "outputs": [
    {
     "data": {
      "text/plain": [
       "{'and',\n",
       " 'boring',\n",
       " 'energy',\n",
       " 'entirely',\n",
       " 'few',\n",
       " 'film',\n",
       " 'fun',\n",
       " 'just',\n",
       " 'lacks',\n",
       " 'laughs',\n",
       " 'most',\n",
       " 'no',\n",
       " 'of',\n",
       " 'plain',\n",
       " 'powerful',\n",
       " 'predictable',\n",
       " 'summ',\n",
       " 'surprises',\n",
       " 'the',\n",
       " 'very'}"
      ]
     },
     "execution_count": 5,
     "metadata": {},
     "output_type": "execute_result"
    }
   ],
   "source": [
    "bag_of_words"
   ]
  },
  {
   "cell_type": "code",
   "execution_count": 6,
   "id": "76207634-16d6-4bdb-b250-6c5fe4f25634",
   "metadata": {},
   "outputs": [],
   "source": [
    "words = list(bag_of_words)\n",
    "words_to_index = {word:index for index, word in enumerate(words)}"
   ]
  },
  {
   "cell_type": "code",
   "execution_count": 7,
   "id": "47abf1c0-7ffc-4bef-82fa-4b5eb1e5169a",
   "metadata": {},
   "outputs": [],
   "source": [
    "import numpy as np\n",
    "\n",
    "bags_count = np.ones((2,len(bag_of_words)))"
   ]
  },
  {
   "cell_type": "code",
   "execution_count": 8,
   "id": "8eb3056d-9c6e-4da4-850e-42684f77b995",
   "metadata": {},
   "outputs": [
    {
     "data": {
      "text/plain": [
       "array([[1., 1., 1., 1., 1., 1., 1., 1., 1., 1., 1., 1., 1., 1., 1., 1.,\n",
       "        1., 1., 1., 1.],\n",
       "       [1., 1., 1., 1., 1., 1., 1., 1., 1., 1., 1., 1., 1., 1., 1., 1.,\n",
       "        1., 1., 1., 1.]])"
      ]
     },
     "execution_count": 8,
     "metadata": {},
     "output_type": "execute_result"
    }
   ],
   "source": [
    "bags_count"
   ]
  },
  {
   "cell_type": "code",
   "execution_count": 9,
   "id": "4dc4118a-bd37-4e22-9d05-a1e05f921109",
   "metadata": {},
   "outputs": [],
   "source": [
    "for sentence in neg_sentences:\n",
    "    for word in sentence.split(\" \"):\n",
    "        bags_count[0][words_to_index[word]]+=1\n",
    "\n",
    "for sentence in pos_sentences:\n",
    "    for word in sentence.split(\" \"):\n",
    "        bags_count[1][words_to_index[word]]+=1"
   ]
  },
  {
   "cell_type": "code",
   "execution_count": 10,
   "id": "73ae2b1a-f0ce-4403-b7a3-cadc31fb104c",
   "metadata": {},
   "outputs": [
    {
     "data": {
      "text/plain": [
       "array([[2., 1., 2., 2., 2., 1., 2., 2., 2., 1., 2., 1., 1., 2., 2., 3.,\n",
       "        1., 2., 1., 2.],\n",
       "       [1., 2., 1., 1., 1., 3., 1., 1., 1., 2., 1., 2., 2., 1., 2., 1.,\n",
       "        2., 1., 2., 1.]])"
      ]
     },
     "execution_count": 10,
     "metadata": {},
     "output_type": "execute_result"
    }
   ],
   "source": [
    "bags_count"
   ]
  },
  {
   "cell_type": "code",
   "execution_count": 11,
   "id": "5f8b72e1-ec5b-4504-a08a-4492366e2dc1",
   "metadata": {},
   "outputs": [],
   "source": [
    "neg_probs = 3/5\n",
    "pos_probs = 2/5\n"
   ]
  },
  {
   "cell_type": "code",
   "execution_count": 12,
   "id": "79776368-32d8-43c6-bc14-c54d9f55873b",
   "metadata": {},
   "outputs": [],
   "source": [
    "neg_counts = bags_count[0].sum()\n",
    "pos_counts = bags_count[1].sum()\n"
   ]
  },
  {
   "cell_type": "code",
   "execution_count": 13,
   "id": "89c92ed8-97ab-411f-984b-adde518d240c",
   "metadata": {},
   "outputs": [
    {
     "data": {
      "text/plain": [
       "(29.0, 34.0)"
      ]
     },
     "execution_count": 13,
     "metadata": {},
     "output_type": "execute_result"
    }
   ],
   "source": [
    "pos_counts,neg_counts"
   ]
  },
  {
   "cell_type": "code",
   "execution_count": 14,
   "id": "08a0910a-fd54-4eb1-8ce0-957f26cde22e",
   "metadata": {},
   "outputs": [],
   "source": [
    "def get_probabilties(sentence):\n",
    "    \n",
    "    neg_pred_probs = [bags_count[0][words_to_index[word]] for word in sentence.split(\" \") if word in words_to_index]\n",
    "    pos_pred_probs = [bags_count[1][words_to_index[word]] for word in sentence.split(\" \") if word in words_to_index]\n",
    "\n",
    "    return neg_pred_probs,pos_pred_probs"
   ]
  },
  {
   "cell_type": "code",
   "execution_count": 15,
   "id": "8e34fbd3-1619-4869-943b-c25deb9827e4",
   "metadata": {},
   "outputs": [],
   "source": [
    "pred_probs = get_probabilties('predictable with no fun')"
   ]
  },
  {
   "cell_type": "code",
   "execution_count": 16,
   "id": "4490580d-0e68-4e58-9393-044a00270f7c",
   "metadata": {},
   "outputs": [
    {
     "data": {
      "text/plain": [
       "([2.0, 2.0, 1.0], [1.0, 1.0, 2.0])"
      ]
     },
     "execution_count": 16,
     "metadata": {},
     "output_type": "execute_result"
    }
   ],
   "source": [
    "pred_probs"
   ]
  },
  {
   "cell_type": "code",
   "execution_count": 17,
   "id": "8587dd1c-bc66-4b13-b4cf-a7b7e64405f3",
   "metadata": {},
   "outputs": [],
   "source": [
    "neg_naive_pred = (neg_probs*np.prod(pred_probs[0]))/(neg_counts)**3\n",
    "pos_naive_pred = (pos_probs*np.prod(pred_probs[1]))/(pos_counts)**3"
   ]
  },
  {
   "cell_type": "code",
   "execution_count": 18,
   "id": "3c807ef6-a671-45d1-ae4e-0f0cf0dfaf33",
   "metadata": {},
   "outputs": [
    {
     "data": {
      "text/plain": [
       "(6.106248727864848e-05, 3.2801672885317154e-05)"
      ]
     },
     "execution_count": 18,
     "metadata": {},
     "output_type": "execute_result"
    }
   ],
   "source": [
    "neg_naive_pred, pos_naive_pred"
   ]
  },
  {
   "cell_type": "code",
   "execution_count": 19,
   "id": "df8cac32-d026-4ebe-9776-5ac1093c1118",
   "metadata": {},
   "outputs": [
    {
     "data": {
      "text/plain": [
       "6.106248727864848e-05"
      ]
     },
     "execution_count": 19,
     "metadata": {},
     "output_type": "execute_result"
    }
   ],
   "source": [
    "(np.prod(pred_probs[0])*neg_probs)/(neg_counts)**3\n"
   ]
  },
  {
   "cell_type": "code",
   "execution_count": 20,
   "id": "422ddedf-9c02-4b4e-a739-015ddeffd6de",
   "metadata": {},
   "outputs": [
    {
     "data": {
      "text/plain": [
       "39304.0"
      ]
     },
     "execution_count": 20,
     "metadata": {},
     "output_type": "execute_result"
    }
   ],
   "source": [
    "(neg_counts)**3"
   ]
  },
  {
   "cell_type": "code",
   "execution_count": null,
   "id": "3cea007d-4b1e-4576-b534-9e0ba36fa75c",
   "metadata": {},
   "outputs": [],
   "source": []
  }
 ],
 "metadata": {
  "kernelspec": {
   "display_name": "Python 3 (ipykernel)",
   "language": "python",
   "name": "python3"
  },
  "language_info": {
   "codemirror_mode": {
    "name": "ipython",
    "version": 3
   },
   "file_extension": ".py",
   "mimetype": "text/x-python",
   "name": "python",
   "nbconvert_exporter": "python",
   "pygments_lexer": "ipython3",
   "version": "3.12.4"
  }
 },
 "nbformat": 4,
 "nbformat_minor": 5
}
